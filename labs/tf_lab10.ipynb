{
 "cells": [
  {
   "cell_type": "markdown",
   "metadata": {},
   "source": [
    "## Tensor Flow basic : Lab 10\n",
    "### NN contiue\n",
    "Here, we keep discuss about NN. Especially, we observe how to overcome several problems in NN. (Following Hinton's argument)\n",
    "#### Better than sigmoid for backpropagation\n",
    "Previously, we see the idea of backpropagation (chain rule) to enable NN. This is good for few layers but many layers (for exmaple 9 hidden layers) case is not working well. This is because we are using `sigmoid` function for our hypothesis. Since `sigmod` is always less than 1, moving each hidden layer by backpropagation makes really small value (think in terms of chain rule for partial derivative) eventually input layer doesn't effect a lot to output layer. This is called **vanishing gradient**\n",
    "\n",
    "To resolve this issue, we use **Rectified Linear Unit (ReLU)**. ReLU is simple to represent $\\textrm{ReLu}(x) = \\max(0,x)$. For NN, we are using ReLu rather than sigmoid i.e. define hypothesis in TF\n",
    "```\n",
    "L1 = tf.sigmoid(tf.matmul(X,W1)+b1)\n",
    "-> L1 = tf.nn.relu(tf.matmul(X,W1)+b1)\n",
    "```\n",
    "ReLU has different options\n",
    "\n",
    "\\begin{align}\n",
    "\\textrm{Leak-ReLU}(x) = \\max(0.1 x , x) \\\\\n",
    "\\textrm{ELU}(x) =\n",
    "\\begin{cases}\n",
    "x & \\textrm{if}\\,\\,\\,\\, x>0\\\\\n",
    "\\alpha(e^x-1) & \\textrm{if} \\,\\,\\,\\, x\\leq0\n",
    "\\end{cases}\n",
    "\\end{align}\n",
    "\n",
    "Also, there are different activation functions (used as hypothesis in layers) such as $\\tanh(x)$ and $\\textrm{maxout}(x) = \\max(w_1^T x + b_1,w_2^T x + b_2)$\n",
    "\n",
    "#### Good initializtion for weight\n",
    "Chaging activation function provides better performance. However, we also need to consider initial weight to get better performance. For example, if we set initial weight as zero then all forwarding gradient will be zero i.e. can fail to use NN.\n",
    "\n",
    "To set the initial weight values wisely:\n",
    "* Not all 0s\n",
    "* Hinton et al. (2006), \"A fast learning algorithm for Deep Belief Nets (DBNs)\n",
    "   - Restricted Boatman Machine (RBM)\n",
    "\n",
    "And there are other ways to do this. \n",
    "\n",
    "We can use RBM to initialize weights\n",
    "* Apply the RBM idae on adjacent two layers as a pre-training step\n",
    "* Continue the first process to all layers\n",
    "* This will set weights\n",
    "\n",
    "This routine is an example of DBN and this is pre-training stage. (Don't need to worry about $x$ values). \n",
    "\n",
    "Recently, several different initializations which are less complicated than RBM such as **Xavier initialization** and **He's initialization**. The basic ideas are that makes sure the weights are just right, not too small, not too big then using number of input (fan_in) and output (fan_out). In the python language:\n",
    "```\n",
    "# Xavier initialization\n",
    "# Glorot et al. 2010\n",
    "W = np.random.number(fan_in, fan_out)/np.sqrt(fan_in)\n",
    "\n",
    "# He et al. 2015\n",
    "W = np.random.number(fan_in, fan_out)/np.sqrt(fan_in/2)\n",
    "\n",
    "```\n",
    "This is still an active area of research to find the way to initialize perfect weight values. Many new algorithms such as batch normalization, layer sequential uniform variance are coming out\n",
    "\n",
    "#### Dropout and model ensemble\n",
    "We nees to avoid overfitting issue. Overfitting causes very high accuracy on the training dataset but poor accuracy on the test data set. Further, errors are incresing with more layers for overfitting case. Previously, we knew that regularization such that\n",
    "\n",
    "\\begin{align}\n",
    "L = \\textrm{cost} + \\lambda \\sum W^2\n",
    "\\end{align}\n",
    "\n",
    "where $\\lambda$ is regularization strength. In `tf`, `l2req = 0.001*tf.reduce_sum(tf.square(W))`\n",
    "\n",
    "In NN, we have **Dropout** : a simple way to prevent NNs from overfitting->Randomly set some neurons to zero in the forward pass. In TF:\n",
    "```\n",
    "dropout_rate = tf.placeholer(\"float\")\n",
    "_L1 = tf.nn.relu(tf.add(tf.matmul(X,W1),B1))\n",
    "L1 = tf.nn.dropout(_L1,dropout_rate)\n",
    "\n",
    "#Train\n",
    "sess.run(optimizer, feed_dict={X:batch_xs,Y:batch_ys,dropout_rate:0.7})\n",
    "```\n",
    "\n",
    "Dropout is used for training only. For actual evaluation, we need to set `dropout_rate=1`\n",
    "\n",
    "Ensemble is the idea combining with multiple training sets and learning models to make ensemble prediction. It increases 2~5% performance\n",
    "\n",
    "#### Different ways to build networks\n",
    "So far, we only use feedforward NN (like build lego blocks sequentially). There are differnt ways to build network modules such as Fast forward (less net structure from He's paper), split & merge, recurrent network (RNN) etc."
   ]
  },
  {
   "cell_type": "code",
   "execution_count": 14,
   "metadata": {
    "collapsed": true
   },
   "outputs": [],
   "source": [
    "import tensorflow as tf\n",
    "import numpy as np"
   ]
  },
  {
   "cell_type": "code",
   "execution_count": 15,
   "metadata": {},
   "outputs": [
    {
     "name": "stdout",
     "output_type": "stream",
     "text": [
      "Extracting ../data/MNIST_data/train-images-idx3-ubyte.gz\n",
      "Extracting ../data/MNIST_data/train-labels-idx1-ubyte.gz\n",
      "Extracting ../data/MNIST_data/t10k-images-idx3-ubyte.gz\n",
      "Extracting ../data/MNIST_data/t10k-labels-idx1-ubyte.gz\n"
     ]
    }
   ],
   "source": [
    "# Here we recall softmax classifier for MNIST (can be found in tf_lab7)\n",
    "# Previously, we only use one softmax classifier (again go to tf_lab7) and it still gives good accuracy (~90%)\n",
    "# now we build NN for MNIST\n",
    "\n",
    "import matplotlib.pyplot as plt\n",
    "import random\n",
    "# Call MNIST data\n",
    "from tensorflow.examples.tutorials.mnist import input_data\n",
    "mnist = input_data.read_data_sets(\"../data/MNIST_data/\", one_hot=True)"
   ]
  },
  {
   "cell_type": "code",
   "execution_count": 16,
   "metadata": {},
   "outputs": [
    {
     "name": "stdout",
     "output_type": "stream",
     "text": [
      "Epoch: 0001 cost = 179.951563021\n",
      "Epoch: 0002 cost = 41.559866098\n",
      "Epoch: 0003 cost = 26.066673390\n",
      "Epoch: 0004 cost = 18.315359251\n",
      "Epoch: 0005 cost = 13.380362025\n",
      "Epoch: 0006 cost = 10.052926301\n",
      "Epoch: 0007 cost = 7.593942371\n",
      "Epoch: 0008 cost = 5.642096143\n",
      "Epoch: 0009 cost = 4.236297221\n",
      "Epoch: 0010 cost = 3.229735587\n",
      "Epoch: 0011 cost = 2.425976305\n",
      "Epoch: 0012 cost = 1.821693864\n",
      "Epoch: 0013 cost = 1.372106152\n",
      "Epoch: 0014 cost = 1.084839214\n",
      "Epoch: 0015 cost = 0.856817239\n",
      "Learning Finished!\n",
      "Accuracy: 0.9447\n",
      "Label:  [1]\n",
      "Prediction:  [1]\n"
     ]
    },
    {
     "data": {
      "image/png": "[encoded data removed]",
      "text/plain": [
       "<matplotlib.figure.Figure at 0x3240a6b70>"
      ]
     },
     "metadata": {},
     "output_type": "display_data"
    }
   ],
   "source": [
    "# parameters\n",
    "learning_rate = 0.001\n",
    "training_epochs = 15\n",
    "batch_size = 100\n",
    "\n",
    "# input place holders\n",
    "X = tf.placeholder(tf.float32, [None, 784])\n",
    "Y = tf.placeholder(tf.float32, [None, 10])\n",
    "\n",
    "# weights & bias for nn layers (more than one)\n",
    "W1 = tf.Variable(tf.random_normal([784, 256]))\n",
    "b1 = tf.Variable(tf.random_normal([256]))\n",
    "L1 = tf.nn.relu(tf.matmul(X, W1) + b1) # We use ReLU instead of softmax\n",
    "\n",
    "W2 = tf.Variable(tf.random_normal([256, 256]))\n",
    "b2 = tf.Variable(tf.random_normal([256]))\n",
    "L2 = tf.nn.relu(tf.matmul(L1, W2) + b2)\n",
    "\n",
    "W3 = tf.Variable(tf.random_normal([256, 10]))\n",
    "b3 = tf.Variable(tf.random_normal([10]))\n",
    "hypothesis = tf.matmul(L2, W3) + b3\n",
    "\n",
    "# define cost/loss & optimizer\n",
    "cost = tf.reduce_mean(tf.nn.softmax_cross_entropy_with_logits(\n",
    "    logits=hypothesis, labels=Y))\n",
    "# Also use adam optimizer insted of GD (https://arxiv.org/pdf/1412.6980v8.pdf)\n",
    "optimizer = tf.train.AdamOptimizer(learning_rate=learning_rate).minimize(cost) \n",
    "\n",
    "# initialize\n",
    "sess = tf.Session()\n",
    "sess.run(tf.global_variables_initializer())\n",
    "\n",
    "# train my model\n",
    "for epoch in range(training_epochs):\n",
    "    avg_cost = 0\n",
    "    total_batch = int(mnist.train.num_examples / batch_size)\n",
    "\n",
    "    for i in range(total_batch):\n",
    "        batch_xs, batch_ys = mnist.train.next_batch(batch_size)\n",
    "        feed_dict = {X: batch_xs, Y: batch_ys}\n",
    "        c, _ = sess.run([cost, optimizer], feed_dict=feed_dict)\n",
    "        avg_cost += c / total_batch\n",
    "\n",
    "    print('Epoch:', '%04d' % (epoch + 1), 'cost =', '{:.9f}'.format(avg_cost))\n",
    "\n",
    "print('Learning Finished!')\n",
    "\n",
    "# Test model and check accuracy\n",
    "correct_prediction = tf.equal(tf.argmax(hypothesis, 1), tf.argmax(Y, 1))\n",
    "accuracy = tf.reduce_mean(tf.cast(correct_prediction, tf.float32))\n",
    "print('Accuracy:', sess.run(accuracy, feed_dict={\n",
    "      X: mnist.test.images, Y: mnist.test.labels}))\n",
    "\n",
    "# Get one and predict\n",
    "r = random.randint(0, mnist.test.num_examples - 1)\n",
    "print(\"Label: \", sess.run(tf.argmax(mnist.test.labels[r:r + 1], 1)))\n",
    "print(\"Prediction: \", sess.run(\n",
    "    tf.argmax(hypothesis, 1), feed_dict={X: mnist.test.images[r:r + 1]}))\n",
    "\n",
    "plt.imshow(mnist.test.images[r:r+1].reshape(28,28),cmap='Greys',interpolation='nearest')\n",
    "plt.show()"
   ]
  },
  {
   "cell_type": "markdown",
   "metadata": {},
   "source": [
    "Shows better accuracy than one softmax function for hypothesis"
   ]
  },
  {
   "cell_type": "code",
   "execution_count": 25,
   "metadata": {
    "collapsed": true
   },
   "outputs": [],
   "source": [
    "# Now, we use Xavier initialization (one way to get better weight)\n",
    "%reset -f"
   ]
  },
  {
   "cell_type": "code",
   "execution_count": 26,
   "metadata": {},
   "outputs": [
    {
     "name": "stdout",
     "output_type": "stream",
     "text": [
      "Extracting ../data/MNIST_data/train-images-idx3-ubyte.gz\n",
      "Extracting ../data/MNIST_data/train-labels-idx1-ubyte.gz\n",
      "Extracting ../data/MNIST_data/t10k-images-idx3-ubyte.gz\n",
      "Extracting ../data/MNIST_data/t10k-labels-idx1-ubyte.gz\n"
     ]
    }
   ],
   "source": [
    "import tensorflow as tf\n",
    "import numpy as np\n",
    "import matplotlib.pyplot as plt\n",
    "import random\n",
    "from tensorflow.examples.tutorials.mnist import input_data\n",
    "\n",
    "tf.reset_default_graph() # Remove all graphs\n",
    "\n",
    "mnist = input_data.read_data_sets(\"../data/MNIST_data/\", one_hot=True)"
   ]
  },
  {
   "cell_type": "code",
   "execution_count": 27,
   "metadata": {},
   "outputs": [
    {
     "name": "stdout",
     "output_type": "stream",
     "text": [
      "Epoch: 0001 cost = 0.341126442\n",
      "Epoch: 0002 cost = 0.117148896\n",
      "Epoch: 0003 cost = 0.075436816\n",
      "Epoch: 0004 cost = 0.053076496\n",
      "Epoch: 0005 cost = 0.039920689\n",
      "Epoch: 0006 cost = 0.032030637\n",
      "Epoch: 0007 cost = 0.022917410\n",
      "Epoch: 0008 cost = 0.017558097\n",
      "Epoch: 0009 cost = 0.017216508\n",
      "Epoch: 0010 cost = 0.014961640\n",
      "Epoch: 0011 cost = 0.012652319\n",
      "Epoch: 0012 cost = 0.010476419\n",
      "Epoch: 0013 cost = 0.009686003\n",
      "Epoch: 0014 cost = 0.010394863\n",
      "Epoch: 0015 cost = 0.009171074\n",
      "Learning Finished!\n",
      "Accuracy: 0.9799\n",
      "Label:  [0]\n",
      "Prediction:  [0]\n"
     ]
    },
    {
     "data": {
      "image/png": "[encoded data removed]",
      "text/plain": [
       "<matplotlib.figure.Figure at 0x3213c0400>"
      ]
     },
     "metadata": {},
     "output_type": "display_data"
    }
   ],
   "source": [
    "# parameters\n",
    "learning_rate = 0.001\n",
    "training_epochs = 15\n",
    "batch_size = 100\n",
    "\n",
    "# input place holders\n",
    "X = tf.placeholder(tf.float32, [None, 784])\n",
    "Y = tf.placeholder(tf.float32, [None, 10])\n",
    "\n",
    "# weights & bias for nn layers (more than one)\n",
    "# Every other parts code is same as above only add initializer for Ws\n",
    "W1 = tf.get_variable(\"W1\",shape=[784,256],initializer=tf.contrib.layers.xavier_initializer())\n",
    "b1 = tf.Variable(tf.random_normal([256]))\n",
    "L1 = tf.nn.relu(tf.matmul(X, W1) + b1) # We use ReLU instead of softmax\n",
    "\n",
    "W2 = tf.get_variable(\"W2\",shape=[256,256],initializer=tf.contrib.layers.xavier_initializer())\n",
    "b2 = tf.Variable(tf.random_normal([256]))\n",
    "L2 = tf.nn.relu(tf.matmul(L1, W2) + b2)\n",
    "\n",
    "W3 = tf.get_variable(\"W3\",shape=[256,10],initializer=tf.contrib.layers.xavier_initializer())\n",
    "b3 = tf.Variable(tf.random_normal([10]))\n",
    "hypothesis = tf.matmul(L2, W3) + b3\n",
    "\n",
    "# define cost/loss & optimizer\n",
    "cost = tf.reduce_mean(tf.nn.softmax_cross_entropy_with_logits(\n",
    "    logits=hypothesis, labels=Y))\n",
    "optimizer = tf.train.AdamOptimizer(learning_rate=learning_rate).minimize(cost)\n",
    "\n",
    "# initialize\n",
    "sess = tf.Session()\n",
    "sess.run(tf.global_variables_initializer())\n",
    "\n",
    "# train my model\n",
    "for epoch in range(training_epochs):\n",
    "    avg_cost = 0\n",
    "    total_batch = int(mnist.train.num_examples / batch_size)\n",
    "\n",
    "    for i in range(total_batch):\n",
    "        batch_xs, batch_ys = mnist.train.next_batch(batch_size)\n",
    "        feed_dict = {X: batch_xs, Y: batch_ys}\n",
    "        c, _ = sess.run([cost, optimizer], feed_dict=feed_dict)\n",
    "        avg_cost += c / total_batch\n",
    "\n",
    "    print('Epoch:', '%04d' % (epoch + 1), 'cost =', '{:.9f}'.format(avg_cost))\n",
    "\n",
    "print('Learning Finished!')\n",
    "\n",
    "# Test model and check accuracy\n",
    "correct_prediction = tf.equal(tf.argmax(hypothesis, 1), tf.argmax(Y, 1))\n",
    "accuracy = tf.reduce_mean(tf.cast(correct_prediction, tf.float32))\n",
    "print('Accuracy:', sess.run(accuracy, feed_dict={\n",
    "      X: mnist.test.images, Y: mnist.test.labels}))\n",
    "\n",
    "# Get one and predict\n",
    "r = random.randint(0, mnist.test.num_examples - 1)\n",
    "print(\"Label: \", sess.run(tf.argmax(mnist.test.labels[r:r + 1], 1)))\n",
    "print(\"Prediction: \", sess.run(\n",
    "    tf.argmax(hypothesis, 1), feed_dict={X: mnist.test.images[r:r + 1]}))\n",
    "\n",
    "plt.imshow(mnist.test.images[r:r+1].reshape(28,28),cmap='Greys',interpolation='nearest')\n",
    "plt.show()"
   ]
  },
  {
   "cell_type": "markdown",
   "metadata": {},
   "source": [
    "Now accuracy is 97.99% and initial cost value is also very small compare with previous result. This implies our initial setup for weight is good\n",
    "\n",
    "We can make deeper and wider NN. However, this cannot guarantee to get better accuracy. Deeper network might make overfitting case. Below example shows this"
   ]
  },
  {
   "cell_type": "code",
   "execution_count": 28,
   "metadata": {
    "collapsed": true
   },
   "outputs": [],
   "source": [
    "%reset -f"
   ]
  },
  {
   "cell_type": "code",
   "execution_count": 29,
   "metadata": {},
   "outputs": [
    {
     "name": "stdout",
     "output_type": "stream",
     "text": [
      "Extracting ../data/MNIST_data/train-images-idx3-ubyte.gz\n",
      "Extracting ../data/MNIST_data/train-labels-idx1-ubyte.gz\n",
      "Extracting ../data/MNIST_data/t10k-images-idx3-ubyte.gz\n",
      "Extracting ../data/MNIST_data/t10k-labels-idx1-ubyte.gz\n"
     ]
    }
   ],
   "source": [
    "import tensorflow as tf\n",
    "import numpy as np\n",
    "import matplotlib.pyplot as plt\n",
    "import random\n",
    "from tensorflow.examples.tutorials.mnist import input_data\n",
    "\n",
    "tf.reset_default_graph() # Remove all graphs\n",
    "mnist = input_data.read_data_sets(\"../data/MNIST_data/\", one_hot=True)"
   ]
  },
  {
   "cell_type": "code",
   "execution_count": 30,
   "metadata": {},
   "outputs": [
    {
     "name": "stdout",
     "output_type": "stream",
     "text": [
      "Epoch: 0001 cost = 0.336836551\n",
      "Epoch: 0002 cost = 0.108269960\n",
      "Epoch: 0003 cost = 0.072398160\n",
      "Epoch: 0004 cost = 0.054412273\n",
      "Epoch: 0005 cost = 0.040992234\n",
      "Epoch: 0006 cost = 0.035164901\n",
      "Epoch: 0007 cost = 0.029615844\n",
      "Epoch: 0008 cost = 0.028432992\n",
      "Epoch: 0009 cost = 0.021891236\n",
      "Epoch: 0010 cost = 0.023325515\n",
      "Epoch: 0011 cost = 0.019095659\n",
      "Epoch: 0012 cost = 0.017563614\n",
      "Epoch: 0013 cost = 0.018490362\n",
      "Epoch: 0014 cost = 0.018734867\n",
      "Epoch: 0015 cost = 0.012367959\n",
      "Learning Finished!\n",
      "Accuracy: 0.9793\n",
      "Label:  [7]\n",
      "Prediction:  [7]\n"
     ]
    },
    {
     "data": {
      "image/png": "[encoded data removed]",
      "text/plain": [
       "<matplotlib.figure.Figure at 0x32a3f6320>"
      ]
     },
     "metadata": {},
     "output_type": "display_data"
    }
   ],
   "source": [
    "# parameters\n",
    "learning_rate = 0.001\n",
    "training_epochs = 15\n",
    "batch_size = 100\n",
    "\n",
    "# input place holders\n",
    "X = tf.placeholder(tf.float32, [None, 784])\n",
    "Y = tf.placeholder(tf.float32, [None, 10])\n",
    "\n",
    "# weights & bias for nn layers (more than one)\n",
    "# make deeper and wider\n",
    "W1 = tf.get_variable(\"W1\", shape=[784, 512],\n",
    "                     initializer=tf.contrib.layers.xavier_initializer())\n",
    "b1 = tf.Variable(tf.random_normal([512]))\n",
    "L1 = tf.nn.relu(tf.matmul(X, W1) + b1)\n",
    "\n",
    "W2 = tf.get_variable(\"W2\", shape=[512, 512],\n",
    "                     initializer=tf.contrib.layers.xavier_initializer())\n",
    "b2 = tf.Variable(tf.random_normal([512]))\n",
    "L2 = tf.nn.relu(tf.matmul(L1, W2) + b2)\n",
    "\n",
    "W3 = tf.get_variable(\"W3\", shape=[512, 512],\n",
    "                     initializer=tf.contrib.layers.xavier_initializer())\n",
    "b3 = tf.Variable(tf.random_normal([512]))\n",
    "L3 = tf.nn.relu(tf.matmul(L2, W3) + b3)\n",
    "\n",
    "W4 = tf.get_variable(\"W4\", shape=[512, 512],\n",
    "                     initializer=tf.contrib.layers.xavier_initializer())\n",
    "b4 = tf.Variable(tf.random_normal([512]))\n",
    "L4 = tf.nn.relu(tf.matmul(L3, W4) + b4)\n",
    "\n",
    "W5 = tf.get_variable(\"W5\", shape=[512, 10],\n",
    "                     initializer=tf.contrib.layers.xavier_initializer())\n",
    "b5 = tf.Variable(tf.random_normal([10]))\n",
    "hypothesis = tf.matmul(L4, W5) + b5\n",
    "\n",
    "# define cost/loss & optimizer\n",
    "cost = tf.reduce_mean(tf.nn.softmax_cross_entropy_with_logits(\n",
    "    logits=hypothesis, labels=Y))\n",
    "optimizer = tf.train.AdamOptimizer(learning_rate=learning_rate).minimize(cost)\n",
    "\n",
    "# initialize\n",
    "sess = tf.Session()\n",
    "sess.run(tf.global_variables_initializer())\n",
    "\n",
    "# train my model\n",
    "for epoch in range(training_epochs):\n",
    "    avg_cost = 0\n",
    "    total_batch = int(mnist.train.num_examples / batch_size)\n",
    "\n",
    "    for i in range(total_batch):\n",
    "        batch_xs, batch_ys = mnist.train.next_batch(batch_size)\n",
    "        feed_dict = {X: batch_xs, Y: batch_ys}\n",
    "        c, _ = sess.run([cost, optimizer], feed_dict=feed_dict)\n",
    "        avg_cost += c / total_batch\n",
    "\n",
    "    print('Epoch:', '%04d' % (epoch + 1), 'cost =', '{:.9f}'.format(avg_cost))\n",
    "\n",
    "print('Learning Finished!')\n",
    "\n",
    "# Test model and check accuracy\n",
    "correct_prediction = tf.equal(tf.argmax(hypothesis, 1), tf.argmax(Y, 1))\n",
    "accuracy = tf.reduce_mean(tf.cast(correct_prediction, tf.float32))\n",
    "print('Accuracy:', sess.run(accuracy, feed_dict={\n",
    "      X: mnist.test.images, Y: mnist.test.labels}))\n",
    "\n",
    "# Get one and predict\n",
    "r = random.randint(0, mnist.test.num_examples - 1)\n",
    "print(\"Label: \", sess.run(tf.argmax(mnist.test.labels[r:r + 1], 1)))\n",
    "print(\"Prediction: \", sess.run(\n",
    "    tf.argmax(hypothesis, 1), feed_dict={X: mnist.test.images[r:r + 1]}))\n",
    "\n",
    "plt.imshow(mnist.test.images[r:r+1].reshape(28,28),cmap='Greys',interpolation='nearest')\n",
    "plt.show()"
   ]
  },
  {
   "cell_type": "markdown",
   "metadata": {
    "collapsed": true
   },
   "source": [
    "which result is not improved. So we are using dropout to avoid overfitting"
   ]
  },
  {
   "cell_type": "code",
   "execution_count": 3,
   "metadata": {},
   "outputs": [
    {
     "name": "stdout",
     "output_type": "stream",
     "text": [
      "Extracting ../data/MNIST_data/train-images-idx3-ubyte.gz\n",
      "Extracting ../data/MNIST_data/train-labels-idx1-ubyte.gz\n",
      "Extracting ../data/MNIST_data/t10k-images-idx3-ubyte.gz\n",
      "Extracting ../data/MNIST_data/t10k-labels-idx1-ubyte.gz\n"
     ]
    }
   ],
   "source": [
    "%reset -f\n",
    "import tensorflow as tf\n",
    "import numpy as np\n",
    "import matplotlib.pyplot as plt\n",
    "import random\n",
    "from tensorflow.examples.tutorials.mnist import input_data\n",
    "\n",
    "tf.reset_default_graph() # Remove all graphs\n",
    "mnist = input_data.read_data_sets(\"../data/MNIST_data/\", one_hot=True)"
   ]
  },
  {
   "cell_type": "code",
   "execution_count": 4,
   "metadata": {},
   "outputs": [
    {
     "name": "stdout",
     "output_type": "stream",
     "text": [
      "Epoch: 0001 cost = 0.484515907\n",
      "Epoch: 0002 cost = 0.173634511\n",
      "Epoch: 0003 cost = 0.131325629\n",
      "Epoch: 0004 cost = 0.109560412\n",
      "Epoch: 0005 cost = 0.093561091\n",
      "Epoch: 0006 cost = 0.085864961\n",
      "Epoch: 0007 cost = 0.075527771\n",
      "Epoch: 0008 cost = 0.068908536\n",
      "Epoch: 0009 cost = 0.064786779\n",
      "Epoch: 0010 cost = 0.058208433\n",
      "Epoch: 0011 cost = 0.057146338\n",
      "Epoch: 0012 cost = 0.052961456\n",
      "Epoch: 0013 cost = 0.052528372\n",
      "Epoch: 0014 cost = 0.048297470\n",
      "Epoch: 0015 cost = 0.045722039\n",
      "Learning Finished!\n",
      "Accuracy: 0.9804\n",
      "Label:  [7]\n",
      "Prediction:  [7]\n"
     ]
    },
    {
     "data": {
      "image/png": "[encoded data removed]",
      "text/plain": [
       "<matplotlib.figure.Figure at 0x320483e48>"
      ]
     },
     "metadata": {},
     "output_type": "display_data"
    }
   ],
   "source": [
    "# parameters\n",
    "learning_rate = 0.001\n",
    "training_epochs = 15\n",
    "batch_size = 100\n",
    "\n",
    "# input place holders\n",
    "X = tf.placeholder(tf.float32, [None, 784])\n",
    "Y = tf.placeholder(tf.float32, [None, 10])\n",
    "\n",
    "# Dropout rate\n",
    "keep_prob = tf.placeholder(tf.float32)\n",
    "\n",
    "# weights & bias for nn layers (more than one)\n",
    "# Apply dropout\n",
    "W1 = tf.get_variable(\"W1\", shape=[784, 512],\n",
    "                     initializer=tf.contrib.layers.xavier_initializer())\n",
    "b1 = tf.Variable(tf.random_normal([512]))\n",
    "L1 = tf.nn.relu(tf.matmul(X, W1) + b1)\n",
    "L1 = tf.nn.dropout(L1, keep_prob=keep_prob)\n",
    "\n",
    "W2 = tf.get_variable(\"W2\", shape=[512, 512],\n",
    "                     initializer=tf.contrib.layers.xavier_initializer())\n",
    "b2 = tf.Variable(tf.random_normal([512]))\n",
    "L2 = tf.nn.relu(tf.matmul(L1, W2) + b2)\n",
    "L2 = tf.nn.dropout(L2, keep_prob=keep_prob)\n",
    "\n",
    "W3 = tf.get_variable(\"W3\", shape=[512, 512],\n",
    "                     initializer=tf.contrib.layers.xavier_initializer())\n",
    "b3 = tf.Variable(tf.random_normal([512]))\n",
    "L3 = tf.nn.relu(tf.matmul(L2, W3) + b3)\n",
    "L3 = tf.nn.dropout(L3, keep_prob=keep_prob)\n",
    "\n",
    "W4 = tf.get_variable(\"W4\", shape=[512, 512],\n",
    "                     initializer=tf.contrib.layers.xavier_initializer())\n",
    "b4 = tf.Variable(tf.random_normal([512]))\n",
    "L4 = tf.nn.relu(tf.matmul(L3, W4) + b4)\n",
    "L4 = tf.nn.dropout(L4, keep_prob=keep_prob)\n",
    "\n",
    "W5 = tf.get_variable(\"W5\", shape=[512, 10],\n",
    "                     initializer=tf.contrib.layers.xavier_initializer())\n",
    "b5 = tf.Variable(tf.random_normal([10]))\n",
    "hypothesis = tf.matmul(L4, W5) + b5\n",
    "\n",
    "# define cost/loss & optimizer\n",
    "cost = tf.reduce_mean(tf.nn.softmax_cross_entropy_with_logits(\n",
    "    logits=hypothesis, labels=Y))\n",
    "optimizer = tf.train.AdamOptimizer(learning_rate=learning_rate).minimize(cost)\n",
    "\n",
    "# initialize\n",
    "sess = tf.Session()\n",
    "sess.run(tf.global_variables_initializer())\n",
    "\n",
    "# train my model\n",
    "for epoch in range(training_epochs):\n",
    "    avg_cost = 0\n",
    "    total_batch = int(mnist.train.num_examples / batch_size)\n",
    "\n",
    "    for i in range(total_batch):\n",
    "        batch_xs, batch_ys = mnist.train.next_batch(batch_size)\n",
    "        feed_dict = {X: batch_xs, Y: batch_ys, keep_prob:0.7}# For training, keep_prob value is set around 0.5~0.7\n",
    "        c, _ = sess.run([cost, optimizer], feed_dict=feed_dict)\n",
    "        avg_cost += c / total_batch\n",
    "\n",
    "    print('Epoch:', '%04d' % (epoch + 1), 'cost =', '{:.9f}'.format(avg_cost))\n",
    "\n",
    "print('Learning Finished!')\n",
    "\n",
    "# Test model and check accuracy\n",
    "correct_prediction = tf.equal(tf.argmax(hypothesis, 1), tf.argmax(Y, 1))\n",
    "accuracy = tf.reduce_mean(tf.cast(correct_prediction, tf.float32))\n",
    "print('Accuracy:', sess.run(accuracy, feed_dict={\n",
    "      X: mnist.test.images, Y: mnist.test.labels, keep_prob:1})) # To test, we need to use all nets so set keep_prob:1\n",
    "\n",
    "# Get one and predict\n",
    "r = random.randint(0, mnist.test.num_examples - 1)\n",
    "print(\"Label: \", sess.run(tf.argmax(mnist.test.labels[r:r + 1], 1)))\n",
    "print(\"Prediction: \", sess.run(\n",
    "    tf.argmax(hypothesis, 1), feed_dict={X: mnist.test.images[r:r + 1], keep_prob:1}))\n",
    "\n",
    "plt.imshow(mnist.test.images[r:r+1].reshape(28,28),cmap='Greys',interpolation='nearest')\n",
    "plt.show()"
   ]
  },
  {
   "cell_type": "markdown",
   "metadata": {
    "collapsed": true
   },
   "source": [
    "we reach 98% accuracy!"
   ]
  },
  {
   "cell_type": "code",
   "execution_count": null,
   "metadata": {
    "collapsed": true
   },
   "outputs": [],
   "source": []
  }
 ],
 "metadata": {
  "kernelspec": {
   "display_name": "Python 3",
   "language": "python",
   "name": "python3"
  },
  "language_info": {
   "codemirror_mode": {
    "name": "ipython",
    "version": 3
   },
   "file_extension": ".py",
   "mimetype": "text/x-python",
   "name": "python",
   "nbconvert_exporter": "python",
   "pygments_lexer": "ipython3",
   "version": "3.6.3"
  }
 },
 "nbformat": 4,
 "nbformat_minor": 2
}
